{
 "cells": [
  {
   "cell_type": "code",
   "execution_count": 1,
   "metadata": {},
   "outputs": [
    {
     "name": "stderr",
     "output_type": "stream",
     "text": [
      "Taking in Input: 100%|██████████| 9/9 [00:07<00:00,  1.24data_sets/s]\n"
     ]
    },
    {
     "name": "stdout",
     "output_type": "stream",
     "text": [
      "Taking in data from left sensors:completed\n",
      " \n"
     ]
    },
    {
     "name": "stderr",
     "output_type": "stream",
     "text": [
      "Taking in Input: 100%|██████████| 9/9 [00:06<00:00,  1.29data_sets/s]\n"
     ]
    },
    {
     "name": "stdout",
     "output_type": "stream",
     "text": [
      "Taking in data from right sensors:completed\n",
      "\n"
     ]
    },
    {
     "name": "stderr",
     "output_type": "stream",
     "text": [
      "Taking in Input: 100%|██████████| 9/9 [00:00<00:00, 18.40data_sets/s]\n"
     ]
    },
    {
     "name": "stdout",
     "output_type": "stream",
     "text": [
      "Taking in data labels:completed\n",
      "787255\n",
      "Training data is processeed \n",
      "\n"
     ]
    }
   ],
   "source": [
    "#This part  is for showing the prediction of a single class\n",
    "from sklearn.metrics import confusion_matrix\n",
    "\n",
    "from tensorflow.keras.models import load_model\n",
    "from preprocess import *\n"
   ]
  },
  {
   "cell_type": "code",
   "execution_count": 2,
   "metadata": {},
   "outputs": [
    {
     "name": "stdout",
     "output_type": "stream",
     "text": [
      "1/1 [==============================] - 3s 3s/step\n",
      "For the sample \n",
      "\n",
      "     acc_x_below_suspension  acc_y_below_suspension  acc_z_below_suspension  \\\n",
      "0                  0.663430                0.383648                0.254582   \n",
      "1                  0.592233                0.339623                0.617108   \n",
      "2                  0.818770                0.679245                0.531568   \n",
      "3                  0.682848                0.509434                0.154786   \n",
      "4                  0.954693                0.238994                0.234216   \n",
      "..                      ...                     ...                     ...   \n",
      "295                0.605178                0.308176               -0.177189   \n",
      "296                0.928803                0.383648                0.242363   \n",
      "297                0.579288                0.106918                0.551935   \n",
      "298                0.757282                0.748428                0.423625   \n",
      "299                0.644013                0.490566               -0.234216   \n",
      "\n",
      "     gyro_x_below_suspension  gyro_y_below_suspension  \\\n",
      "0                  -0.678571            -5.893910e-03   \n",
      "1                  -0.595238             1.434185e-01   \n",
      "2                   0.333333             2.946955e-02   \n",
      "3                   0.083333             3.732809e-02   \n",
      "4                  -1.000000             2.946955e-02   \n",
      "..                       ...                      ...   \n",
      "295                 0.428571             1.159136e-01   \n",
      "296                -0.714286             2.554028e-02   \n",
      "297                -0.428571             6.876228e-02   \n",
      "298                 0.190476             1.942890e-16   \n",
      "299                -0.047619             1.905697e-01   \n",
      "\n",
      "     gyro_z_below_suspension     speed  \n",
      "0                  -0.885609 -1.000000  \n",
      "1                  -0.881919 -1.000000  \n",
      "2                  -0.904059 -1.000000  \n",
      "3                  -0.892989 -1.000000  \n",
      "4                  -0.926199 -1.000000  \n",
      "..                       ...       ...  \n",
      "295                -0.889299 -0.478082  \n",
      "296                -0.933579 -0.478082  \n",
      "297                -0.859779 -0.478082  \n",
      "298                -0.904059 -0.478082  \n",
      "299                -0.904059 -0.478082  \n",
      "\n",
      "[300 rows x 7 columns]\n",
      "The class wise predicted possibilites is\n",
      "[[3.0692668e-13 2.2243170e-05 9.9997771e-01]]\n",
      "The predicted class is (from highest probabilty) [2] and the actual class is 2\n"
     ]
    }
   ],
   "source": [
    "import pandas as pd\n",
    "# Load the best model saved during training\n",
    "best_model = load_model('best_model.h5')\n",
    "\n",
    "prediction = best_model.predict(test_data[10:11,:,:])\n",
    "reshaped_data = test_data[10:11, :, :].reshape(-1, test_data.shape[-1])\n",
    "\n",
    "# Define column names\n",
    "columns = [\"acc_x_below_suspension\", \"acc_y_below_suspension\", \"acc_z_below_suspension\",\n",
    "           \"gyro_x_below_suspension\", \"gyro_y_below_suspension\", \"gyro_z_below_suspension\", \"speed\"]\n",
    "\n",
    "# Create a DataFrame\n",
    "data = pd.DataFrame(reshaped_data, columns=columns)\n",
    "print(f\"For the sample \\n\")\n",
    "print(data)\n",
    "print(\"The class wise predicted possibilites is\")\n",
    "print(prediction)\n",
    "\n",
    "predicted_class = np.argmax(prediction, axis=1) # We take the class with highest probabilty of occuring from all the possibilites\n",
    "print(f\"The predicted class is (from highest probabilty) {predicted_class} and the actual class is { np.argmax(n_labels_test[10], axis=0)}\")\n"
   ]
  },
  {
   "cell_type": "code",
   "execution_count": 3,
   "metadata": {},
   "outputs": [
    {
     "name": "stdout",
     "output_type": "stream",
     "text": [
      "31/31 [==============================] - 0s 4ms/step\n",
      "Confusion Matrix:\n",
      "[[166  82   4]\n",
      " [ 66 201  10]\n",
      " [  3   4 441]]\n",
      "Mean \n",
      "  precision: 82.52000111905068 \n",
      "  recall: 82.7021494370522, \n",
      "  accuracy: 82.7021494370522, \n",
      "  f1_score: 82.58057592145018\n",
      "\n",
      "\n",
      "rows is precision, recall, fscore and support:\n",
      "|          0 |          1 |          2 |\n",
      "|------------+------------+------------|\n",
      "|   0.706383 |   0.700348 |   0.969231 |\n",
      "|   0.65873  |   0.725632 |   0.984375 |\n",
      "|   0.681725 |   0.712766 |   0.976744 |\n",
      "| 252        | 277        | 448        |\n",
      "\n",
      "\n",
      "per-class accuracy:\n",
      "|      0 |       1 |       2 |\n",
      "|--------+---------+---------|\n",
      "| 65.873 | 72.5632 | 98.4375 |\n"
     ]
    }
   ],
   "source": [
    "\n",
    "\n",
    "predictions = best_model.predict(test_data)\n",
    "predicted_classes = np.argmax(predictions, axis=1)\n",
    "true_classes = np.argmax(n_labels_test, axis=1)\n",
    "confusion_mat = confusion_matrix(true_classes, predicted_classes)\n",
    "print(\"Confusion Matrix:\")\n",
    "print(confusion_mat)\n",
    "\n",
    "import sklearn.metrics as metrics\n",
    "from sklearn.metrics import confusion_matrix\n",
    "\n",
    "def performance_matrix(true, pred):\n",
    "    precision = metrics.precision_score(true,pred,average='weighted')\n",
    "    recall = metrics.recall_score(true,pred,average='weighted') # average='weighted'\n",
    "    accuracy = metrics.accuracy_score(true,pred)\n",
    "    f1_score = metrics.f1_score(true,pred,average='weighted')\n",
    "    print('Mean \\n  precision: {} \\n  recall: {}, \\n  accuracy: {}, \\n  f1_score: {}'.format(precision*100,recall*100,accuracy*100,f1_score*100))\n",
    "\n",
    "performance_matrix(true_classes, predicted_classes)\n",
    "\n",
    "# \n",
    "from tabulate import tabulate\n",
    "from sklearn.metrics import precision_recall_fscore_support as score\n",
    "precision, recall, fscore, support = score(true_classes, predicted_classes)\n",
    "\n",
    "print('\\n')\n",
    "print('rows is precision, recall, fscore and support:')\n",
    "print(tabulate([precision, recall, fscore, support], headers=['0' , '1' , '2' , '3', '4'], tablefmt='orgtbl'))\n",
    "\n",
    "print('\\n')\n",
    "print('per-class accuracy:')\n",
    "cm = confusion_matrix(true_classes, predicted_classes)\n",
    "cm = cm.astype('float')*100 / cm.sum(axis=1)[:, np.newaxis]\n",
    "print(tabulate([cm.diagonal()], headers=['0' , '1' , '2' , '3', '4'], tablefmt='orgtbl'))"
   ]
  },
  {
   "cell_type": "code",
   "execution_count": 4,
   "metadata": {},
   "outputs": [
    {
     "data": {
      "image/png": "[encoded data removed]",
      "text/plain": [
       "<Figure size 800x600 with 2 Axes>"
      ]
     },
     "metadata": {},
     "output_type": "display_data"
    }
   ],
   "source": [
    "# Plot the confusion matrix with sample counts\n",
    "import seaborn as sns\n",
    "plt.figure(figsize=(8, 6))\n",
    "sns.heatmap(cm, annot=False, fmt='d', cmap='Blues', xticklabels=['Class 0', 'Class 1', 'Class 2'], yticklabels=['Class 0', 'Class 1', 'Class 2'])\n",
    "\n",
    "# Annotate the heatmap with sample counts\n",
    "for i in range(len(cm)):\n",
    "    for j in range(len(cm[i])):\n",
    "        plt.text(j + 0.5, i + 0.5, str(np.round(cm[i, j],3)), ha='center', va='center', color='black', fontsize=10)\n",
    "\n",
    "plt.xlabel('Predicted')\n",
    "plt.ylabel('Actual')\n",
    "plt.title('Confusion Matrix -Classifier A')\n",
    "plt.savefig(\"Confusion Matrix_Classifier A.png\")\n",
    "plt.show()\n"
   ]
  },
  {
   "cell_type": "code",
   "execution_count": null,
   "metadata": {},
   "outputs": [],
   "source": []
  },
  {
   "cell_type": "code",
   "execution_count": null,
   "metadata": {},
   "outputs": [],
   "source": []
  },
  {
   "cell_type": "code",
   "execution_count": null,
   "metadata": {},
   "outputs": [],
   "source": []
  }
 ],
 "metadata": {
  "kernelspec": {
   "display_name": "env",
   "language": "python",
   "name": "python3"
  },
  "language_info": {
   "codemirror_mode": {
    "name": "ipython",
    "version": 3
   },
   "file_extension": ".py",
   "mimetype": "text/x-python",
   "name": "python",
   "nbconvert_exporter": "python",
   "pygments_lexer": "ipython3",
   "version": "3.10.13"
  }
 },
 "nbformat": 4,
 "nbformat_minor": 2
}
