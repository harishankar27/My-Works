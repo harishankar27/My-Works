{
 "cells": [
  {
   "cell_type": "code",
   "execution_count": 1,
   "metadata": {},
   "outputs": [
    {
     "name": "stderr",
     "output_type": "stream",
     "text": [
      "Taking in Input: 100%|██████████| 9/9 [00:03<00:00,  2.67data_sets/s]\n"
     ]
    },
    {
     "name": "stdout",
     "output_type": "stream",
     "text": [
      "Taking in data from left sensors:completed\n",
      " \n"
     ]
    },
    {
     "name": "stderr",
     "output_type": "stream",
     "text": [
      "Taking in Input: 100%|██████████| 9/9 [00:03<00:00,  2.58data_sets/s]\n"
     ]
    },
    {
     "name": "stdout",
     "output_type": "stream",
     "text": [
      "Taking in data from right sensors:completed\n",
      "\n"
     ]
    },
    {
     "name": "stderr",
     "output_type": "stream",
     "text": [
      "Taking in Input: 100%|██████████| 9/9 [00:00<00:00, 25.74data_sets/s]\n"
     ]
    },
    {
     "name": "stdout",
     "output_type": "stream",
     "text": [
      "Taking in data labels:completed\n",
      "Training data is processeed \n",
      "\n",
      "(4187, 300, 7)\n",
      "(4187, 3)\n",
      "(1047, 300, 7)\n",
      "(1047, 3)\n"
     ]
    }
   ],
   "source": [
    "#This part  is for showing the prediction of a single class\n",
    "from sklearn.metrics import confusion_matrix\n",
    "\n",
    "from tensorflow.keras.models import load_model\n",
    "from preprocess import *\n"
   ]
  },
  {
   "cell_type": "code",
   "execution_count": 2,
   "metadata": {},
   "outputs": [
    {
     "name": "stdout",
     "output_type": "stream",
     "text": [
      "1/1 [==============================] - 3s 3s/step\n",
      "For the sample \n",
      "\n",
      "     acc_x_below_suspension  acc_y_below_suspension  acc_z_below_suspension  \\\n",
      "0                  0.064833               -0.274227                0.327044   \n",
      "1                 -0.021611                0.051546               -0.100629   \n",
      "2                  0.047151               -0.490722               -0.380503   \n",
      "3                  0.045187               -0.224742               -0.034591   \n",
      "4                  0.041257               -0.241237                0.135220   \n",
      "..                      ...                     ...                     ...   \n",
      "295                0.166994               -0.096907                0.160377   \n",
      "296               -0.115914                0.026804                0.028302   \n",
      "297                0.045187               -0.094845               -0.369497   \n",
      "298                0.064833               -0.094845               -0.110849   \n",
      "299                0.084479               -0.094845                0.147799   \n",
      "\n",
      "     gyro_x_below_suspension  gyro_y_below_suspension  \\\n",
      "0                   0.620397                -0.693380   \n",
      "1                   0.966006                -0.540070   \n",
      "2                   0.583569                -0.595819   \n",
      "3                   0.575071                -0.512195   \n",
      "4                   0.614731                -0.665505   \n",
      "..                       ...                      ...   \n",
      "295                 0.603399                -0.790941   \n",
      "296                 0.926346                -0.226481   \n",
      "297                 0.628895                -0.668990   \n",
      "298                 0.657224                -0.585366   \n",
      "299                 0.685552                -0.501742   \n",
      "\n",
      "     gyro_z_below_suspension  speed  \n",
      "0              -2.371542e-02    1.0  \n",
      "1              -1.581028e-02    1.0  \n",
      "2              -5.928854e-03    1.0  \n",
      "3              -7.892992e-17    1.0  \n",
      "4               1.185771e-02    1.0  \n",
      "..                       ...    ...  \n",
      "295             3.162055e-02   -1.0  \n",
      "296             1.976285e-02   -1.0  \n",
      "297            -9.881423e-03   -1.0  \n",
      "298            -4.940711e-03   -1.0  \n",
      "299            -7.892992e-17   -1.0  \n",
      "\n",
      "[300 rows x 7 columns]\n",
      "The class wise predicted possibilites is\n",
      "[[2.6274746e-08 3.7213918e-05 9.9996281e-01]]\n",
      "The predicted class by is (from highest probabilty) [2] and the actual class is 2\n"
     ]
    }
   ],
   "source": [
    "import pandas as pd\n",
    "# Load the best model saved during training\n",
    "best_model = load_model('best_model.h5')\n",
    "\n",
    "prediction = best_model.predict(test_data[10:11,:,:])\n",
    "reshaped_data = test_data[10:11, :, :].reshape(-1, test_data.shape[-1])\n",
    "\n",
    "# Define column names\n",
    "columns = [\"acc_x_below_suspension\", \"acc_y_below_suspension\", \"acc_z_below_suspension\",\n",
    "           \"gyro_x_below_suspension\", \"gyro_y_below_suspension\", \"gyro_z_below_suspension\", \"speed\"]\n",
    "\n",
    "# Create a DataFrame\n",
    "data = pd.DataFrame(reshaped_data, columns=columns)\n",
    "print(f\"For the sample \\n\")\n",
    "print(data)\n",
    "print(\"The class wise predicted possibilites is\")\n",
    "print(prediction)\n",
    "\n",
    "predicted_class = np.argmax(prediction, axis=1) # We take the class with highest probabilty of occuring from all the possibilites\n",
    "print(f\"The predicted class by is (from highest probabilty) {predicted_class} and the actual class is { np.argmax(n_labels_test[10], axis=0)}\")\n"
   ]
  },
  {
   "cell_type": "code",
   "execution_count": 3,
   "metadata": {},
   "outputs": [
    {
     "name": "stdout",
     "output_type": "stream",
     "text": [
      "61/61 [==============================] - 0s 3ms/step\n",
      "Confusion Matrix:\n",
      "[[366 132   6]\n",
      " [123 424   6]\n",
      " [ 11   8 874]]\n",
      "Mean \n",
      "  precision: 85.41352247833281 \n",
      "  recall: 85.33333333333334, \n",
      "  accuracy: 85.33333333333334, \n",
      "  f1_score: 85.37034400009651\n",
      "\n",
      "\n",
      "rows is precision, recall, fscore and support:\n",
      "|          0 |          1 |          2 |\n",
      "|------------+------------+------------|\n",
      "|   0.732    |   0.751773 |   0.986456 |\n",
      "|   0.72619  |   0.766727 |   0.978723 |\n",
      "|   0.729084 |   0.759176 |   0.982574 |\n",
      "| 504        | 553        | 893        |\n",
      "\n",
      "\n",
      "per-class accuracy:\n",
      "|      0 |       1 |       2 |\n",
      "|--------+---------+---------|\n",
      "| 72.619 | 76.6727 | 97.8723 |\n"
     ]
    }
   ],
   "source": [
    "\n",
    "\n",
    "predictions = best_model.predict(test_data)\n",
    "predicted_classes = np.argmax(predictions, axis=1)\n",
    "true_classes = np.argmax(n_labels_test, axis=1)\n",
    "confusion_mat = confusion_matrix(true_classes, predicted_classes)\n",
    "print(\"Confusion Matrix:\")\n",
    "print(confusion_mat)\n",
    "\n",
    "import sklearn.metrics as metrics\n",
    "from sklearn.metrics import confusion_matrix\n",
    "\n",
    "def performance_matrix(true, pred):\n",
    "    precision = metrics.precision_score(true,pred,average='weighted')\n",
    "    recall = metrics.recall_score(true,pred,average='weighted') # average='weighted'\n",
    "    accuracy = metrics.accuracy_score(true,pred)\n",
    "    f1_score = metrics.f1_score(true,pred,average='weighted')\n",
    "    print('Mean \\n  precision: {} \\n  recall: {}, \\n  accuracy: {}, \\n  f1_score: {}'.format(precision*100,recall*100,accuracy*100,f1_score*100))\n",
    "\n",
    "performance_matrix(true_classes, predicted_classes)\n",
    "\n",
    "# \n",
    "from tabulate import tabulate\n",
    "from sklearn.metrics import precision_recall_fscore_support as score\n",
    "precision, recall, fscore, support = score(true_classes, predicted_classes)\n",
    "\n",
    "print('\\n')\n",
    "print('rows is precision, recall, fscore and support:')\n",
    "print(tabulate([precision, recall, fscore, support], headers=['0' , '1' , '2' , '3', '4'], tablefmt='orgtbl'))\n",
    "\n",
    "print('\\n')\n",
    "print('per-class accuracy:')\n",
    "cm = confusion_matrix(true_classes, predicted_classes)\n",
    "cm = cm.astype('float')*100 / cm.sum(axis=1)[:, np.newaxis]\n",
    "print(tabulate([cm.diagonal()], headers=['0' , '1' , '2' , '3', '4'], tablefmt='orgtbl'))"
   ]
  },
  {
   "cell_type": "code",
   "execution_count": 4,
   "metadata": {},
   "outputs": [
    {
     "data": {
      "image/png": "[encoded data removed]",
      "text/plain": [
       "<Figure size 800x600 with 2 Axes>"
      ]
     },
     "metadata": {},
     "output_type": "display_data"
    }
   ],
   "source": [
    "# Plot the confusion matrix with sample counts\n",
    "import seaborn as sns\n",
    "plt.figure(figsize=(8, 6))\n",
    "sns.heatmap(cm, annot=False, fmt='d', cmap='Blues', xticklabels=['Class 0', 'Class 1', 'Class 2'], yticklabels=['Class 0', 'Class 1', 'Class 2'])\n",
    "\n",
    "# Annotate the heatmap with sample counts\n",
    "for i in range(len(cm)):\n",
    "    for j in range(len(cm[i])):\n",
    "        plt.text(j + 0.5, i + 0.5, str(np.round(cm[i, j],3)), ha='center', va='center', color='black', fontsize=10)\n",
    "\n",
    "plt.xlabel('Predicted')\n",
    "plt.ylabel('Actual')\n",
    "plt.title('Confusion Matrix -Classifier B')\n",
    "plt.savefig(\"Confusion Matrix_Classifier B.png\")\n",
    "plt.show()\n"
   ]
  },
  {
   "cell_type": "code",
   "execution_count": null,
   "metadata": {},
   "outputs": [],
   "source": []
  },
  {
   "cell_type": "code",
   "execution_count": null,
   "metadata": {},
   "outputs": [],
   "source": []
  },
  {
   "cell_type": "code",
   "execution_count": null,
   "metadata": {},
   "outputs": [],
   "source": []
  }
 ],
 "metadata": {
  "kernelspec": {
   "display_name": "env",
   "language": "python",
   "name": "python3"
  },
  "language_info": {
   "codemirror_mode": {
    "name": "ipython",
    "version": 3
   },
   "file_extension": ".py",
   "mimetype": "text/x-python",
   "name": "python",
   "nbconvert_exporter": "python",
   "pygments_lexer": "ipython3",
   "version": "3.10.13"
  }
 },
 "nbformat": 4,
 "nbformat_minor": 2
}
